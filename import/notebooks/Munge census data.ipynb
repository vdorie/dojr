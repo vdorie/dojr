{
 "cells": [
  {
   "cell_type": "code",
   "execution_count": 1,
   "metadata": {
    "collapsed": false
   },
   "outputs": [],
   "source": [
    "import csv\n",
    "import os\n",
    "import time\n",
    "\n",
    "%matplotlib inline\n",
    "import matplotlib.pylab as pylab\n",
    "import pandas as pd\n",
    "\n",
    "pylab.rcParams['figure.figsize'] = 16, 8"
   ]
  },
  {
   "cell_type": "code",
   "execution_count": 2,
   "metadata": {
    "collapsed": true
   },
   "outputs": [],
   "source": [
    "def age_group_mapping(age):\n",
    "    if age <= 9:\n",
    "        return '0-9'\n",
    "    elif (age >= 10) & (age <= 14):\n",
    "        return '10-14'\n",
    "    elif (age >= 15) & (age <= 17):\n",
    "        return '15-17'\n",
    "    elif (age >= 18) & (age <= 24):\n",
    "        return '18-24'\n",
    "    elif (age >= 25) & (age <= 29):\n",
    "        return '25-29'\n",
    "    elif (age >= 30) & (age <= 39):\n",
    "        return '30-39'\n",
    "    elif (age >= 40) & (age <= 49):\n",
    "        return '40-49'\n",
    "    elif (age >= 50) & (age <= 59):\n",
    "        return '50-59'\n",
    "    else:\n",
    "        return '60+'"
   ]
  },
  {
   "cell_type": "code",
   "execution_count": 3,
   "metadata": {
    "collapsed": true
   },
   "outputs": [],
   "source": [
    "census_data_filepath = '/Users/ng/Downloads/age5racethsexcopop1980_2015.csv'\n",
    "orig_population_df = pd.read_csv(census_data_filepath)\n",
    "del orig_population_df['county']"
   ]
  },
  {
   "cell_type": "code",
   "execution_count": 4,
   "metadata": {
    "collapsed": false
   },
   "outputs": [],
   "source": [
    "orig_population_df.rename(columns={'poptot_': 'All Combined', \n",
    "                                   'popwhite_': 'White', \n",
    "                                   'pophisp_': 'Hispanic', \n",
    "                                   'popapi_': 'Asian/Pacific Islander', \n",
    "                                   'popblack_': 'Black', \n",
    "                                   'popamind_': 'Native American', \n",
    "                                   'popother_': 'Other', \n",
    "                                   'sex': 'gender', \n",
    "                                   'countyname': 'county',\n",
    "                                  }, inplace=True)"
   ]
  },
  {
   "cell_type": "code",
   "execution_count": 5,
   "metadata": {
    "collapsed": false
   },
   "outputs": [],
   "source": [
    "orig_population_df['age_group'] = orig_population_df['age'].apply(lambda x: age_group_mapping(x))"
   ]
  },
  {
   "cell_type": "code",
   "execution_count": 6,
   "metadata": {
    "collapsed": false
   },
   "outputs": [],
   "source": [
    "# We want both age ranges (e.g., 0-9 and so on), but also want 'Juvenile' and 'Adult' labels.\n",
    "juvenile_groups = ['0-9', '10-14', '15-17']\n",
    "adult_groups = set(orig_population_df['age_group']) - set(juvenile_groups)\n",
    "\n",
    "juveniles = orig_population_df[orig_population_df['age_group'].isin(juvenile_groups)].copy()\n",
    "juveniles['age_group'] = 'Juvenile'\n",
    "\n",
    "adults = orig_population_df[orig_population_df['age_group'].isin(adult_groups)].copy()\n",
    "adults['age_group'] = 'Adult'\n",
    "\n",
    "orig_population_df = pd.concat([orig_population_df, juveniles, adults])"
   ]
  },
  {
   "cell_type": "code",
   "execution_count": 7,
   "metadata": {
    "collapsed": false
   },
   "outputs": [],
   "source": [
    "races = ['Hispanic', 'Black', 'White', 'Asian/Pacific Islander', 'Other']\n",
    "for race in races:\n",
    "    orig_population_df[race] = orig_population_df[race].apply(lambda x: int(round(x)))"
   ]
  },
  {
   "cell_type": "code",
   "execution_count": 8,
   "metadata": {
    "collapsed": false
   },
   "outputs": [
    {
     "data": {
      "text/html": [
       "<div>\n",
       "<table border=\"1\" class=\"dataframe\">\n",
       "  <thead>\n",
       "    <tr style=\"text-align: right;\">\n",
       "      <th></th>\n",
       "      <th>county</th>\n",
       "      <th>year</th>\n",
       "      <th>gender</th>\n",
       "      <th>age</th>\n",
       "      <th>All Combined</th>\n",
       "      <th>White</th>\n",
       "      <th>Hispanic</th>\n",
       "      <th>Asian/Pacific Islander</th>\n",
       "      <th>Black</th>\n",
       "      <th>Other</th>\n",
       "      <th>fips</th>\n",
       "      <th>age_group</th>\n",
       "    </tr>\n",
       "  </thead>\n",
       "  <tbody>\n",
       "    <tr>\n",
       "      <th>0</th>\n",
       "      <td>Alameda</td>\n",
       "      <td>1980</td>\n",
       "      <td>Male</td>\n",
       "      <td>0</td>\n",
       "      <td>8347.0</td>\n",
       "      <td>4241</td>\n",
       "      <td>1586</td>\n",
       "      <td>681</td>\n",
       "      <td>1792</td>\n",
       "      <td>47</td>\n",
       "      <td>1</td>\n",
       "      <td>0-9</td>\n",
       "    </tr>\n",
       "    <tr>\n",
       "      <th>1</th>\n",
       "      <td>Alameda</td>\n",
       "      <td>1980</td>\n",
       "      <td>Male</td>\n",
       "      <td>1</td>\n",
       "      <td>7553.0</td>\n",
       "      <td>3759</td>\n",
       "      <td>1419</td>\n",
       "      <td>629</td>\n",
       "      <td>1697</td>\n",
       "      <td>49</td>\n",
       "      <td>1</td>\n",
       "      <td>0-9</td>\n",
       "    </tr>\n",
       "    <tr>\n",
       "      <th>2</th>\n",
       "      <td>Alameda</td>\n",
       "      <td>1980</td>\n",
       "      <td>Male</td>\n",
       "      <td>2</td>\n",
       "      <td>7369.0</td>\n",
       "      <td>3610</td>\n",
       "      <td>1423</td>\n",
       "      <td>612</td>\n",
       "      <td>1677</td>\n",
       "      <td>47</td>\n",
       "      <td>1</td>\n",
       "      <td>0-9</td>\n",
       "    </tr>\n",
       "    <tr>\n",
       "      <th>3</th>\n",
       "      <td>Alameda</td>\n",
       "      <td>1980</td>\n",
       "      <td>Male</td>\n",
       "      <td>3</td>\n",
       "      <td>7096.0</td>\n",
       "      <td>3552</td>\n",
       "      <td>1298</td>\n",
       "      <td>595</td>\n",
       "      <td>1603</td>\n",
       "      <td>48</td>\n",
       "      <td>1</td>\n",
       "      <td>0-9</td>\n",
       "    </tr>\n",
       "    <tr>\n",
       "      <th>4</th>\n",
       "      <td>Alameda</td>\n",
       "      <td>1980</td>\n",
       "      <td>Male</td>\n",
       "      <td>4</td>\n",
       "      <td>7088.0</td>\n",
       "      <td>3434</td>\n",
       "      <td>1306</td>\n",
       "      <td>662</td>\n",
       "      <td>1649</td>\n",
       "      <td>37</td>\n",
       "      <td>1</td>\n",
       "      <td>0-9</td>\n",
       "    </tr>\n",
       "  </tbody>\n",
       "</table>\n",
       "</div>"
      ],
      "text/plain": [
       "    county  year gender  age  All Combined  White  Hispanic  Asian/Pacific Islander  Black  Other  \\\n",
       "0  Alameda  1980   Male    0        8347.0   4241      1586                     681   1792     47   \n",
       "1  Alameda  1980   Male    1        7553.0   3759      1419                     629   1697     49   \n",
       "2  Alameda  1980   Male    2        7369.0   3610      1423                     612   1677     47   \n",
       "3  Alameda  1980   Male    3        7096.0   3552      1298                     595   1603     48   \n",
       "4  Alameda  1980   Male    4        7088.0   3434      1306                     662   1649     37   \n",
       "\n",
       "   fips age_group  \n",
       "0     1       0-9  \n",
       "1     1       0-9  \n",
       "2     1       0-9  \n",
       "3     1       0-9  \n",
       "4     1       0-9  "
      ]
     },
     "execution_count": 8,
     "metadata": {},
     "output_type": "execute_result"
    }
   ],
   "source": [
    "orig_population_df.head()"
   ]
  },
  {
   "cell_type": "code",
   "execution_count": 9,
   "metadata": {
    "collapsed": false
   },
   "outputs": [
    {
     "name": "stdout",
     "output_type": "stream",
     "text": [
      "Took 60.733598947525024 seconds to complete.\n"
     ]
    }
   ],
   "source": [
    "start = time.time()\n",
    "# columns in output data frame (for table in data oasis)\n",
    "fieldnames = ['year', 'county', 'race', 'gender', 'age_group', 'population']\n",
    "# columns to group by for aggregation\n",
    "columns = ['year', 'county', 'gender', 'age_group']\n",
    "county_year_sex_agegroup = orig_population_df.groupby(columns)\n",
    "result = []\n",
    "for group_name, data in county_year_sex_agegroup:\n",
    "    for race in races:\n",
    "        row = {}\n",
    "        row['year'], row['county'], row['gender'], row['age_group'] = group_name\n",
    "        row['race'] = race\n",
    "        row['population'] = data[race].sum()\n",
    "        result.append(row)\n",
    "df = pd.DataFrame.from_dict(result)\n",
    "df = df[fieldnames]\n",
    "df_copy = df.copy()\n",
    "stop = time.time()\n",
    "print('Took {} seconds to complete.'.format(stop - start))"
   ]
  },
  {
   "cell_type": "code",
   "execution_count": 10,
   "metadata": {
    "collapsed": false
   },
   "outputs": [
    {
     "name": "stdout",
     "output_type": "stream",
     "text": [
      "Took 6.127923011779785 seconds to complete.\n"
     ]
    }
   ],
   "source": [
    "# Columns to aggregate produce 'All Combined' results for County\n",
    "start = time.time()\n",
    "columns = ['county', 'race', 'gender', 'age_group']\n",
    "by_year = df_copy.groupby(['year'])\n",
    "result = []\n",
    "for year, data in by_year:\n",
    "    for column in columns:\n",
    "        agg_columns = list(set(columns) - set([column]))\n",
    "        rows = data.groupby(agg_columns)['population'].sum().reset_index()\n",
    "        rows[column] = 'All Combined'\n",
    "        rows['year'] = year\n",
    "        rows = rows[fieldnames]\n",
    "        data = pd.concat([data, rows])\n",
    "    result.append(data)\n",
    "df = pd.concat(result)\n",
    "df = df.sort_values(by=fieldnames).reset_index(drop=True)\n",
    "\n",
    "# Necessary because there a multiple (i.e. 2) levels of aggregation for age groups (age ranges and juvenile vs adult)\n",
    "is_all_combined = df['age_group'] == 'All Combined'\n",
    "df.loc[is_all_combined, 'population'] = df.loc[is_all_combined, 'population'] / 2\n",
    "df['population'] = df['population'].astype(int)\n",
    "\n",
    "output_file = '/Users/ng/Downloads/ca_county_population_by_race_gender_age_1980-2015_08-17-2016_ng.csv'\n",
    "df.to_csv(output_file, index=False)\n",
    "stop = time.time()\n",
    "print('Took {} seconds to complete.'.format(stop - start))"
   ]
  },
  {
   "cell_type": "markdown",
   "metadata": {},
   "source": [
    "# Cells below here used for sanity checking"
   ]
  },
  {
   "cell_type": "code",
   "execution_count": 11,
   "metadata": {
    "collapsed": false
   },
   "outputs": [],
   "source": [
    "validation_filepath = '/Users/ng/Downloads/ca_county_population_by_race_gender_age_1980-2015_08-17-2016_sp.csv'\n",
    "sp = pd.read_csv(validation_filepath)\n",
    "sp = sp.sort_values(by=fieldnames).reset_index(drop=True)"
   ]
  },
  {
   "cell_type": "code",
   "execution_count": 12,
   "metadata": {
    "collapsed": false
   },
   "outputs": [],
   "source": [
    "# remove other from the processed data because the comparison dataset doesn't have the 'Other' race category.\n",
    "df = df[df.race != 'Other']\n",
    "df = df.sort_values(by=fieldnames).reset_index(drop=True)\n",
    "# fin\n",
    "df['wat'] = df.population != sp.population"
   ]
  },
  {
   "cell_type": "code",
   "execution_count": 13,
   "metadata": {
    "collapsed": false
   },
   "outputs": [
    {
     "data": {
      "text/html": [
       "<div>\n",
       "<table border=\"1\" class=\"dataframe\">\n",
       "  <thead>\n",
       "    <tr style=\"text-align: right;\">\n",
       "      <th></th>\n",
       "      <th>year</th>\n",
       "      <th>county</th>\n",
       "      <th>race</th>\n",
       "      <th>gender</th>\n",
       "      <th>age_group</th>\n",
       "      <th>population</th>\n",
       "      <th>pop_diff</th>\n",
       "    </tr>\n",
       "  </thead>\n",
       "  <tbody>\n",
       "    <tr>\n",
       "      <th>297549</th>\n",
       "      <td>2008</td>\n",
       "      <td>All Combined</td>\n",
       "      <td>All Combined</td>\n",
       "      <td>All Combined</td>\n",
       "      <td>Adult</td>\n",
       "      <td>27330281</td>\n",
       "      <td>-321.0</td>\n",
       "    </tr>\n",
       "  </tbody>\n",
       "</table>\n",
       "</div>"
      ],
      "text/plain": [
       "        year        county          race        gender age_group  population  pop_diff\n",
       "297549  2008  All Combined  All Combined  All Combined     Adult    27330281    -321.0"
      ]
     },
     "execution_count": 13,
     "metadata": {},
     "output_type": "execute_result"
    }
   ],
   "source": [
    "sp['pop_diff'] = df[df['wat']]['population'].sub(sp[df['wat'].values]['population'])\n",
    "# get an extreme example of population differences \n",
    "sp[sp.pop_diff == sp.pop_diff.min()]"
   ]
  },
  {
   "cell_type": "code",
   "execution_count": 14,
   "metadata": {
    "collapsed": false
   },
   "outputs": [
    {
     "name": "stdout",
     "output_type": "stream",
     "text": [
      "Total population 27329960 using this notebook (sums over races instead of using the poptotal_ column)\n"
     ]
    }
   ],
   "source": [
    "ex_year = 2008\n",
    "ex_agegroup = 'Adult'\n",
    "# Example data subset for validating state population differences\n",
    "d2008 = df_copy[df_copy['year'] == ex_year]\n",
    "d2008 = d2008[d2008['age_group'] == ex_agegroup]\n",
    "print('Total population {} using this notebook (sums over races instead of using the poptotal_ column)'.format(d2008.population.sum()))"
   ]
  },
  {
   "cell_type": "code",
   "execution_count": 15,
   "metadata": {
    "collapsed": true
   },
   "outputs": [],
   "source": [
    "# In theory, these should be equal, but are not due to small rounding errors.\n",
    "orig_population_df['summed_total'] = orig_population_df[races].sum(axis=1)\n",
    "orig_population_df['difference'] = orig_population_df['All Combined'].sub(orig_population_df['summed_total'])"
   ]
  },
  {
   "cell_type": "code",
   "execution_count": 16,
   "metadata": {
    "collapsed": false
   },
   "outputs": [
    {
     "name": "stdout",
     "output_type": "stream",
     "text": [
      "Total population 27330281 using old ppic notebook (uses poptotal_ column)\n"
     ]
    }
   ],
   "source": [
    "o2008 = orig_population_df[orig_population_df['year'] == ex_year]\n",
    "o2008 = o2008[o2008['age_group'] == ex_agegroup]\n",
    "o2008['All Combined'].apply(lambda x: round(x)).sum()\n",
    "print('Total population {} using old ppic notebook (uses poptotal_ column)'.format(o2008['All Combined'].apply(lambda x: round(x)).sum()))"
   ]
  },
  {
   "cell_type": "code",
   "execution_count": 19,
   "metadata": {
    "collapsed": false
   },
   "outputs": [
    {
     "data": {
      "text/plain": [
       "<matplotlib.text.Text at 0x109e4bb70>"
      ]
     },
     "execution_count": 19,
     "metadata": {},
     "output_type": "execute_result"
    },
    {
     "data": {
      "image/png": "[encoded data removed]",
      "text/plain": [
       "<matplotlib.figure.Figure at 0x1124ad8d0>"
      ]
     },
     "metadata": {},
     "output_type": "display_data"
    }
   ],
   "source": [
    "# plot the distribution of population differences.\n",
    "fig = o2008['difference'].hist(bins=50)\n",
    "fig.set_xlabel('Difference between population estimates for age')\n",
    "fig.set_ylabel('# occurrences')"
   ]
  }
 ],
 "metadata": {
  "kernelspec": {
   "display_name": "Python 3",
   "language": "python",
   "name": "python3"
  },
  "language_info": {
   "codemirror_mode": {
    "name": "ipython",
    "version": 3
   },
   "file_extension": ".py",
   "mimetype": "text/x-python",
   "name": "python",
   "nbconvert_exporter": "python",
   "pygments_lexer": "ipython3",
   "version": "3.5.1"
  }
 },
 "nbformat": 4,
 "nbformat_minor": 0
}
